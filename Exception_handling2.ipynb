{
 "cells": [
  {
   "cell_type": "raw",
   "id": "10ca3b87-9cdf-4006-a09d-5cda44d56363",
   "metadata": {},
   "source": [
    "\n",
    "Q1. Explain why we have to use the Exception class while creating a Custom Exception.\n",
    "Note: Here Exception class refers to the base class for all the exceptions.\n",
    "\n",
    "Exception class can be used to handle system centric exceptions like type, value, file not found and so on whereas the custom exceptions\n",
    "is created based on the nature of the application. \n"
   ]
  },
  {
   "cell_type": "raw",
   "id": "63726a7d-09be-471f-84b8-9c2599b28879",
   "metadata": {},
   "source": [
    "Q2. Write a python program to print Python Exception Hierarchy.\n",
    "\n",
    "def exc(cls):\n",
    "    print(cls.__name__)\n",
    "    for sub in cls.__subclasses__():\n",
    "        print(sub)\n",
    "exc(Exception)"
   ]
  },
  {
   "cell_type": "raw",
   "id": "daf0b443-f9d8-40f2-b17a-86220384218c",
   "metadata": {},
   "source": [
    "\"\"\"Q3. What errors are defined in the ArithmeticError class? Explain any two with an example.\n",
    "\n",
    "ArithmeticError class handlels exception related to arithmetic operations such as zero division error, overflow erroro\n",
    "\n",
    "zero devision error\n",
    "\"\"\"\n",
    "try:\n",
    "    a=7/0\n",
    "except ZeroDivisionError as e:\n",
    "    print(e)\n",
    "\n",
    "try:\n",
    "    n=2\n",
    "    for i in range(1,1000):\n",
    "        n=n**i\n",
    "    print(n)\n",
    "except OverflowError as e:\n",
    "    print(e)"
   ]
  },
  {
   "cell_type": "raw",
   "id": "197eeba7-cf2d-45c4-b03e-fe547ca8c01b",
   "metadata": {},
   "source": [
    "Q4. Why LookupError class is used? Explain with an example KeyError and IndexError.\n",
    "\n",
    "LookupError is used to handle exceptions based on index range or key not found in dictionary\n",
    "\n",
    "\n",
    "try:\n",
    "    a={'A': 123,'B':456}\n",
    "    print(a[\"dc\"])\n",
    "except KeyError as e:\n",
    "    print(e)\n",
    "   \n",
    "try:\n",
    "    a=[1,2,3,4]\n",
    "    a[5]\n",
    "except IndexError as e:\n",
    "    print(e)"
   ]
  },
  {
   "cell_type": "raw",
   "id": "4e7e0a5c-6e17-496f-8b25-dc794fab2aeb",
   "metadata": {},
   "source": [
    "Q5. Explain ImportError. What is ModuleNotFoundError?\n",
    "\n",
    "ImportError is triggered when the user tries to import the class which \n",
    "is not available or created or it does have any circular dependency\n",
    "\n",
    "ModuleNotFoundError is triggered when the user tries to \n",
    "import the package which is not available or created\n",
    "there may be spelling mistakes in the given package name\n",
    "\n"
   ]
  },
  {
   "cell_type": "raw",
   "id": "7ec1e923-e64f-4be5-802c-390a772dc90b",
   "metadata": {},
   "source": [
    "Q6. List down some best practices for exception handling in python.\n",
    "\n",
    "always log information about the process and exceptions as well\n",
    "Dont use the base class Exception in all the cases, try to write the exception for specific cases based on nature of the program\n",
    "Don write for exceptions which may never happen (for example, program related to integer does not requiure exceptioon related to filenotfound error)\n",
    "always clean up resources like when the file is opened it has to be closed(f=open(t.txt), f.close())\n",
    "do documentation\n"
   ]
  },
  {
   "cell_type": "code",
   "execution_count": null,
   "id": "b6289886-bde5-4d9c-8536-30d07e412db8",
   "metadata": {},
   "outputs": [],
   "source": []
  },
  {
   "cell_type": "code",
   "execution_count": null,
   "id": "9c397bce-f633-423f-b459-7cbca952aaaf",
   "metadata": {},
   "outputs": [],
   "source": []
  },
  {
   "cell_type": "code",
   "execution_count": null,
   "id": "2a41cfdf-f91b-488c-be03-c5bcb58f840a",
   "metadata": {},
   "outputs": [],
   "source": []
  },
  {
   "cell_type": "code",
   "execution_count": null,
   "id": "d22deeb4-d4d1-42a3-ac09-a2e2af3f77f4",
   "metadata": {},
   "outputs": [],
   "source": []
  }
 ],
 "metadata": {
  "kernelspec": {
   "display_name": "Python 3 (ipykernel)",
   "language": "python",
   "name": "python3"
  },
  "language_info": {
   "codemirror_mode": {
    "name": "ipython",
    "version": 3
   },
   "file_extension": ".py",
   "mimetype": "text/x-python",
   "name": "python",
   "nbconvert_exporter": "python",
   "pygments_lexer": "ipython3",
   "version": "3.10.8"
  }
 },
 "nbformat": 4,
 "nbformat_minor": 5
}
